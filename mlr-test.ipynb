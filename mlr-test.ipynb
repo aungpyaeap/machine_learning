{
 "cells": [
  {
   "cell_type": "code",
   "execution_count": 1,
   "metadata": {},
   "outputs": [
    {
     "name": "stdout",
     "output_type": "stream",
     "text": [
      "    Year  Month  Interest_Rate  Unemployment_Rate  Stock_Index_Price\n",
      "0   2017     12           2.75                5.3               1464\n",
      "1   2017     11           2.50                5.3               1394\n",
      "2   2017     10           2.50                5.3               1357\n",
      "3   2017      9           2.50                5.3               1293\n",
      "4   2017      8           2.50                5.4               1256\n",
      "5   2017      7           2.50                5.6               1254\n",
      "6   2017      6           2.50                5.5               1234\n",
      "7   2017      5           2.25                5.5               1195\n",
      "8   2017      4           2.25                5.5               1159\n",
      "9   2017      3           2.25                5.6               1167\n",
      "10  2017      2           2.00                5.7               1130\n",
      "11  2017      1           2.00                5.9               1075\n",
      "12  2016     12           2.00                6.0               1047\n",
      "13  2016     11           1.75                5.9                965\n",
      "14  2016     10           1.75                5.8                943\n",
      "15  2016      9           1.75                6.1                958\n",
      "16  2016      8           1.75                6.2                971\n",
      "17  2016      7           1.75                6.1                949\n",
      "18  2016      6           1.75                6.1                884\n",
      "19  2016      5           1.75                6.1                866\n",
      "20  2016      4           1.75                5.9                876\n",
      "21  2016      3           1.75                6.2                822\n",
      "22  2016      2           1.75                6.2                704\n",
      "23  2016      1           1.75                6.1                719\n"
     ]
    }
   ],
   "source": [
    "from pandas import DataFrame\n",
    "\n",
    "Stock_Market = {'Year': [2017,2017,2017,2017,2017,2017,2017,2017,2017,2017,2017,2017,2016,2016,2016,2016,2016,2016,2016,2016,2016,2016,2016,2016],\n",
    "                'Month': [12, 11,10,9,8,7,6,5,4,3,2,1,12,11,10,9,8,7,6,5,4,3,2,1],\n",
    "                'Interest_Rate': [2.75,2.5,2.5,2.5,2.5,2.5,2.5,2.25,2.25,2.25,2,2,2,1.75,1.75,1.75,1.75,1.75,1.75,1.75,1.75,1.75,1.75,1.75],\n",
    "                'Unemployment_Rate': [5.3,5.3,5.3,5.3,5.4,5.6,5.5,5.5,5.5,5.6,5.7,5.9,6,5.9,5.8,6.1,6.2,6.1,6.1,6.1,5.9,6.2,6.2,6.1],\n",
    "                'Stock_Index_Price': [1464,1394,1357,1293,1256,1254,1234,1195,1159,1167,1130,1075,1047,965,943,958,971,949,884,866,876,822,704,719]        \n",
    "                }\n",
    "\n",
    "df = DataFrame(Stock_Market,columns=['Year','Month','Interest_Rate','Unemployment_Rate','Stock_Index_Price']) \n",
    "\n",
    "print (df)"
   ]
  },
  {
   "cell_type": "code",
   "execution_count": 27,
   "metadata": {},
   "outputs": [
    {
     "data": {
      "text/html": [
       "<style  type=\"text/css\" >\n",
       "    #T_261b558a_93fb_11e9_99eb_180373c46720row0_col0 {\n",
       "            background-color:  #b40426;\n",
       "        }    #T_261b558a_93fb_11e9_99eb_180373c46720row0_col1 {\n",
       "            background-color:  #90b2fe;\n",
       "        }    #T_261b558a_93fb_11e9_99eb_180373c46720row0_col2 {\n",
       "            background-color:  #ca3b37;\n",
       "        }    #T_261b558a_93fb_11e9_99eb_180373c46720row0_col3 {\n",
       "            background-color:  #4257c9;\n",
       "        }    #T_261b558a_93fb_11e9_99eb_180373c46720row0_col4 {\n",
       "            background-color:  #cd423b;\n",
       "        }    #T_261b558a_93fb_11e9_99eb_180373c46720row1_col0 {\n",
       "            background-color:  #d4dbe6;\n",
       "        }    #T_261b558a_93fb_11e9_99eb_180373c46720row1_col1 {\n",
       "            background-color:  #b40426;\n",
       "        }    #T_261b558a_93fb_11e9_99eb_180373c46720row1_col2 {\n",
       "            background-color:  #f7ba9f;\n",
       "        }    #T_261b558a_93fb_11e9_99eb_180373c46720row1_col3 {\n",
       "            background-color:  #9ebeff;\n",
       "        }    #T_261b558a_93fb_11e9_99eb_180373c46720row1_col4 {\n",
       "            background-color:  #f6a283;\n",
       "        }    #T_261b558a_93fb_11e9_99eb_180373c46720row2_col0 {\n",
       "            background-color:  #ca3b37;\n",
       "        }    #T_261b558a_93fb_11e9_99eb_180373c46720row2_col1 {\n",
       "            background-color:  #dfdbd9;\n",
       "        }    #T_261b558a_93fb_11e9_99eb_180373c46720row2_col2 {\n",
       "            background-color:  #b40426;\n",
       "        }    #T_261b558a_93fb_11e9_99eb_180373c46720row2_col3 {\n",
       "            background-color:  #3b4cc0;\n",
       "        }    #T_261b558a_93fb_11e9_99eb_180373c46720row2_col4 {\n",
       "            background-color:  #c0282f;\n",
       "        }    #T_261b558a_93fb_11e9_99eb_180373c46720row3_col0 {\n",
       "            background-color:  #3b4cc0;\n",
       "        }    #T_261b558a_93fb_11e9_99eb_180373c46720row3_col1 {\n",
       "            background-color:  #3b4cc0;\n",
       "        }    #T_261b558a_93fb_11e9_99eb_180373c46720row3_col2 {\n",
       "            background-color:  #3b4cc0;\n",
       "        }    #T_261b558a_93fb_11e9_99eb_180373c46720row3_col3 {\n",
       "            background-color:  #b40426;\n",
       "        }    #T_261b558a_93fb_11e9_99eb_180373c46720row3_col4 {\n",
       "            background-color:  #3b4cc0;\n",
       "        }    #T_261b558a_93fb_11e9_99eb_180373c46720row4_col0 {\n",
       "            background-color:  #cd423b;\n",
       "        }    #T_261b558a_93fb_11e9_99eb_180373c46720row4_col1 {\n",
       "            background-color:  #f3c7b1;\n",
       "        }    #T_261b558a_93fb_11e9_99eb_180373c46720row4_col2 {\n",
       "            background-color:  #c0282f;\n",
       "        }    #T_261b558a_93fb_11e9_99eb_180373c46720row4_col3 {\n",
       "            background-color:  #3b4cc0;\n",
       "        }    #T_261b558a_93fb_11e9_99eb_180373c46720row4_col4 {\n",
       "            background-color:  #b40426;\n",
       "        }</style>  \n",
       "<table id=\"T_261b558a_93fb_11e9_99eb_180373c46720\" > \n",
       "<thead>    <tr> \n",
       "        <th class=\"blank level0\" ></th> \n",
       "        <th class=\"col_heading level0 col0\" >Year</th> \n",
       "        <th class=\"col_heading level0 col1\" >Month</th> \n",
       "        <th class=\"col_heading level0 col2\" >Interest_Rate</th> \n",
       "        <th class=\"col_heading level0 col3\" >Unemployment_Rate</th> \n",
       "        <th class=\"col_heading level0 col4\" >Stock_Index_Price</th> \n",
       "    </tr></thead> \n",
       "<tbody>    <tr> \n",
       "        <th id=\"T_261b558a_93fb_11e9_99eb_180373c46720level0_row0\" class=\"row_heading level0 row0\" >Year</th> \n",
       "        <td id=\"T_261b558a_93fb_11e9_99eb_180373c46720row0_col0\" class=\"data row0 col0\" >1</td> \n",
       "        <td id=\"T_261b558a_93fb_11e9_99eb_180373c46720row0_col1\" class=\"data row0 col1\" >0</td> \n",
       "        <td id=\"T_261b558a_93fb_11e9_99eb_180373c46720row0_col2\" class=\"data row0 col2\" >0.88</td> \n",
       "        <td id=\"T_261b558a_93fb_11e9_99eb_180373c46720row0_col3\" class=\"data row0 col3\" >-0.88</td> \n",
       "        <td id=\"T_261b558a_93fb_11e9_99eb_180373c46720row0_col4\" class=\"data row0 col4\" >0.86</td> \n",
       "    </tr>    <tr> \n",
       "        <th id=\"T_261b558a_93fb_11e9_99eb_180373c46720level0_row1\" class=\"row_heading level0 row1\" >Month</th> \n",
       "        <td id=\"T_261b558a_93fb_11e9_99eb_180373c46720row1_col0\" class=\"data row1 col0\" >0</td> \n",
       "        <td id=\"T_261b558a_93fb_11e9_99eb_180373c46720row1_col1\" class=\"data row1 col1\" >1</td> \n",
       "        <td id=\"T_261b558a_93fb_11e9_99eb_180373c46720row1_col2\" class=\"data row1 col2\" >0.34</td> \n",
       "        <td id=\"T_261b558a_93fb_11e9_99eb_180373c46720row1_col3\" class=\"data row1 col3\" >-0.35</td> \n",
       "        <td id=\"T_261b558a_93fb_11e9_99eb_180373c46720row1_col4\" class=\"data row1 col4\" >0.48</td> \n",
       "    </tr>    <tr> \n",
       "        <th id=\"T_261b558a_93fb_11e9_99eb_180373c46720level0_row2\" class=\"row_heading level0 row2\" >Interest_Rate</th> \n",
       "        <td id=\"T_261b558a_93fb_11e9_99eb_180373c46720row2_col0\" class=\"data row2 col0\" >0.88</td> \n",
       "        <td id=\"T_261b558a_93fb_11e9_99eb_180373c46720row2_col1\" class=\"data row2 col1\" >0.34</td> \n",
       "        <td id=\"T_261b558a_93fb_11e9_99eb_180373c46720row2_col2\" class=\"data row2 col2\" >1</td> \n",
       "        <td id=\"T_261b558a_93fb_11e9_99eb_180373c46720row2_col3\" class=\"data row2 col3\" >-0.93</td> \n",
       "        <td id=\"T_261b558a_93fb_11e9_99eb_180373c46720row2_col4\" class=\"data row2 col4\" >0.94</td> \n",
       "    </tr>    <tr> \n",
       "        <th id=\"T_261b558a_93fb_11e9_99eb_180373c46720level0_row3\" class=\"row_heading level0 row3\" >Unemployment_Rate</th> \n",
       "        <td id=\"T_261b558a_93fb_11e9_99eb_180373c46720row3_col0\" class=\"data row3 col0\" >-0.88</td> \n",
       "        <td id=\"T_261b558a_93fb_11e9_99eb_180373c46720row3_col1\" class=\"data row3 col1\" >-0.35</td> \n",
       "        <td id=\"T_261b558a_93fb_11e9_99eb_180373c46720row3_col2\" class=\"data row3 col2\" >-0.93</td> \n",
       "        <td id=\"T_261b558a_93fb_11e9_99eb_180373c46720row3_col3\" class=\"data row3 col3\" >1</td> \n",
       "        <td id=\"T_261b558a_93fb_11e9_99eb_180373c46720row3_col4\" class=\"data row3 col4\" >-0.92</td> \n",
       "    </tr>    <tr> \n",
       "        <th id=\"T_261b558a_93fb_11e9_99eb_180373c46720level0_row4\" class=\"row_heading level0 row4\" >Stock_Index_Price</th> \n",
       "        <td id=\"T_261b558a_93fb_11e9_99eb_180373c46720row4_col0\" class=\"data row4 col0\" >0.86</td> \n",
       "        <td id=\"T_261b558a_93fb_11e9_99eb_180373c46720row4_col1\" class=\"data row4 col1\" >0.48</td> \n",
       "        <td id=\"T_261b558a_93fb_11e9_99eb_180373c46720row4_col2\" class=\"data row4 col2\" >0.94</td> \n",
       "        <td id=\"T_261b558a_93fb_11e9_99eb_180373c46720row4_col3\" class=\"data row4 col3\" >-0.92</td> \n",
       "        <td id=\"T_261b558a_93fb_11e9_99eb_180373c46720row4_col4\" class=\"data row4 col4\" >1</td> \n",
       "    </tr></tbody> \n",
       "</table> "
      ],
      "text/plain": [
       "<pandas.io.formats.style.Styler at 0x22bf8537588>"
      ]
     },
     "execution_count": 27,
     "metadata": {},
     "output_type": "execute_result"
    }
   ],
   "source": [
    "corr = df.corr()\n",
    "corr.style.background_gradient(cmap='coolwarm').set_precision(2)"
   ]
  },
  {
   "cell_type": "code",
   "execution_count": 13,
   "metadata": {},
   "outputs": [],
   "source": [
    "from sklearn import linear_model\n",
    "import statsmodels.api as sm\n",
    "X = df[['Interest_Rate','Unemployment_Rate']] # here we have 2 variables for multiple regression. If you just want to use one variable for simple linear regression, then use X = df['Interest_Rate'] for example.Alternatively, you may add additional variables within the brackets\n",
    "Y = df['Stock_Index_Price']"
   ]
  },
  {
   "cell_type": "code",
   "execution_count": 5,
   "metadata": {},
   "outputs": [
    {
     "name": "stdout",
     "output_type": "stream",
     "text": [
      "Intercept: \n",
      " 1798.4039776258546\n",
      "Coefficients: \n",
      " [ 345.54008701 -250.14657137]\n"
     ]
    }
   ],
   "source": [
    "# with sklearn\n",
    "regr = linear_model.LinearRegression()\n",
    "regr.fit(X, Y)\n",
    "\n",
    "print('Intercept: \\n', regr.intercept_)\n",
    "print('Coefficients: \\n', regr.coef_)"
   ]
  },
  {
   "cell_type": "code",
   "execution_count": 6,
   "metadata": {},
   "outputs": [
    {
     "name": "stdout",
     "output_type": "stream",
     "text": [
      "Predicted Stock Index Price: \n",
      " [1422.86238865]\n"
     ]
    }
   ],
   "source": [
    "# prediction with sklearn\n",
    "New_Interest_Rate = 2.75\n",
    "New_Unemployment_Rate = 5.3\n",
    "print ('Predicted Stock Index Price: \\n', regr.predict([[New_Interest_Rate ,New_Unemployment_Rate]]))"
   ]
  },
  {
   "cell_type": "code",
   "execution_count": 7,
   "metadata": {},
   "outputs": [
    {
     "name": "stdout",
     "output_type": "stream",
     "text": [
      "                            OLS Regression Results                            \n",
      "==============================================================================\n",
      "Dep. Variable:      Stock_Index_Price   R-squared:                       0.898\n",
      "Model:                            OLS   Adj. R-squared:                  0.888\n",
      "Method:                 Least Squares   F-statistic:                     92.07\n",
      "Date:                Fri, 21 Jun 2019   Prob (F-statistic):           4.04e-11\n",
      "Time:                        15:42:41   Log-Likelihood:                -134.61\n",
      "No. Observations:                  24   AIC:                             275.2\n",
      "Df Residuals:                      21   BIC:                             278.8\n",
      "Df Model:                           2                                         \n",
      "Covariance Type:            nonrobust                                         \n",
      "=====================================================================================\n",
      "                        coef    std err          t      P>|t|      [0.025      0.975]\n",
      "-------------------------------------------------------------------------------------\n",
      "const              1798.4040    899.248      2.000      0.059     -71.685    3668.493\n",
      "Interest_Rate       345.5401    111.367      3.103      0.005     113.940     577.140\n",
      "Unemployment_Rate  -250.1466    117.950     -2.121      0.046    -495.437      -4.856\n",
      "==============================================================================\n",
      "Omnibus:                        2.691   Durbin-Watson:                   0.530\n",
      "Prob(Omnibus):                  0.260   Jarque-Bera (JB):                1.551\n",
      "Skew:                          -0.612   Prob(JB):                        0.461\n",
      "Kurtosis:                       3.226   Cond. No.                         394.\n",
      "==============================================================================\n",
      "\n",
      "Warnings:\n",
      "[1] Standard Errors assume that the covariance matrix of the errors is correctly specified.\n"
     ]
    }
   ],
   "source": [
    "X = sm.add_constant(X) # adding a constant\n",
    " \n",
    "model = sm.OLS(Y, X).fit()\n",
    "predictions = model.predict(X) \n",
    " \n",
    "print_model = model.summary()\n",
    "print(print_model)"
   ]
  },
  {
   "cell_type": "code",
   "execution_count": 8,
   "metadata": {},
   "outputs": [
    {
     "data": {
      "text/plain": [
       "0     1422.862389\n",
       "1     1336.477367\n",
       "2     1336.477367\n",
       "3     1336.477367\n",
       "4     1311.462710\n",
       "5     1261.433395\n",
       "6     1286.448053\n",
       "7     1200.063031\n",
       "8     1200.063031\n",
       "9     1175.048374\n",
       "10    1063.648695\n",
       "11    1013.619381\n",
       "12     988.604723\n",
       "13     927.234359\n",
       "14     952.249016\n",
       "15     877.205045\n",
       "16     852.190387\n",
       "17     877.205045\n",
       "18     877.205045\n",
       "19     877.205045\n",
       "20     927.234359\n",
       "21     852.190387\n",
       "22     852.190387\n",
       "23     877.205045\n",
       "dtype: float64"
      ]
     },
     "execution_count": 8,
     "metadata": {},
     "output_type": "execute_result"
    }
   ],
   "source": [
    "predictions"
   ]
  },
  {
   "cell_type": "code",
   "execution_count": 24,
   "metadata": {},
   "outputs": [
    {
     "data": {
      "image/png": "[encoded data removed]",
      "text/plain": [
       "<matplotlib.figure.Figure at 0x22bf85f3e80>"
      ]
     },
     "metadata": {},
     "output_type": "display_data"
    }
   ],
   "source": [
    "import matplotlib.pyplot as plt\n",
    "\n",
    "plt.scatter(Y, predictions, color='green')\n",
    "plt.title('Stock Index Price Vs Interest Rate', fontsize=14)\n",
    "plt.xlabel('Interest Rate', fontsize=14)\n",
    "plt.ylabel('Stock Index Price', fontsize=14)\n",
    "plt.plot(Y, predictions, linestyle='solid', color='orange')\n",
    "plt.grid(True)\n",
    "plt.show()"
   ]
  },
  {
   "cell_type": "code",
   "execution_count": null,
   "metadata": {},
   "outputs": [],
   "source": [
    "#https://datatofish.com/"
   ]
  },
  {
   "cell_type": "code",
   "execution_count": null,
   "metadata": {},
   "outputs": [],
   "source": []
  }
 ],
 "metadata": {
  "kernelspec": {
   "display_name": "Python 3",
   "language": "python",
   "name": "python3"
  },
  "language_info": {
   "codemirror_mode": {
    "name": "ipython",
    "version": 3
   },
   "file_extension": ".py",
   "mimetype": "text/x-python",
   "name": "python",
   "nbconvert_exporter": "python",
   "pygments_lexer": "ipython3",
   "version": "3.6.4"
  }
 },
 "nbformat": 4,
 "nbformat_minor": 2
}
